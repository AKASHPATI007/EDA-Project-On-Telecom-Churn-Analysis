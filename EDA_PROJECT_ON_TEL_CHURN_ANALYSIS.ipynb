{
  "nbformat": 4,
  "nbformat_minor": 0,
  "metadata": {
    "colab": {
      "private_outputs": true,
      "provenance": [],
      "include_colab_link": true
    },
    "kernelspec": {
      "name": "python3",
      "display_name": "Python 3"
    },
    "language_info": {
      "name": "python"
    }
  },
  "cells": [
    {
      "cell_type": "markdown",
      "metadata": {
        "id": "view-in-github",
        "colab_type": "text"
      },
      "source": [
        "<a href=\"https://colab.research.google.com/github/AKASHPATI007/EDA-Project-On-Telecom-Churn-Analysis/blob/main/EDA_PROJECT_ON_TEL_CHURN_ANALYSIS.ipynb\" target=\"_parent\"><img src=\"https://colab.research.google.com/assets/colab-badge.svg\" alt=\"Open In Colab\"/></a>"
      ]
    },
    {
      "cell_type": "markdown",
      "source": [
        "# **Project Name**    - TELECOM CHURN ANALYSIS\n",
        "\n"
      ],
      "metadata": {
        "id": "vncDsAP0Gaoa"
      }
    },
    {
      "cell_type": "markdown",
      "source": [
        "##### **Project Type**    - EDA CAPSTON PROJECT\n",
        "##### **Contribution**    - Individual\n"
      ],
      "metadata": {
        "id": "beRrZCGUAJYm"
      }
    },
    {
      "cell_type": "markdown",
      "source": [
        "# **Project Summary -**"
      ],
      "metadata": {
        "id": "FJNUwmbgGyua"
      }
    },
    {
      "cell_type": "markdown",
      "source": [
        "Customer churn is a big problem in any industry and one of the most important concerns for the Telecom industry. The effect on the revenues of the companies, because of this customer churns is huge, especially in the telecom field, that's why these companies are seeking to develop a predictive potential customer churn. In this highly competitive market, the telecommunications industry experiences an average of 15-25% annual churn rate, and it costs 5-10 times more to acquire a new customer than to retain an existing one, that's why customer retention has now become even more important than customer acquisition.\n",
        "\n",
        "Therefore, finding those factors that increase customer churn is important to take necessary actions to reduce this churn. The main goal of our project is to develop an understanding of the cause of customer churn which assists telecom operators to predict customers who are most likely subject to churn, and what to do to retain the most valuable customer.\n",
        "\n",
        "\n",
        "\n"
      ],
      "metadata": {
        "id": "F6v_1wHtG2nS"
      }
    },
    {
      "cell_type": "markdown",
      "source": [
        "# **GitHub Link -**"
      ],
      "metadata": {
        "id": "w6K7xa23Elo4"
      }
    },
    {
      "cell_type": "markdown",
      "source": [
        "https://github.com/AKASHPATI007"
      ],
      "metadata": {
        "id": "h1o69JH3Eqqn"
      }
    },
    {
      "cell_type": "markdown",
      "source": [
        "# **Problem Statement**\n"
      ],
      "metadata": {
        "id": "yQaldy8SH6Dl"
      }
    },
    {
      "cell_type": "markdown",
      "source": [
        "**Orange S.A., formerly France Télécom S.A., is a French multinational telecommunications corporation. The Orange Telecom's Churn Dataset, consists of cleaned customer activity data (features), along with a churn label specifying whether a customer cancelled the subscription. Explore and analyze the data to discover key factors responsible for customer churn and come up with ways/recommendations to ensure customer retention. **"
      ],
      "metadata": {
        "id": "DpeJGUA3kjGy"
      }
    },
    {
      "cell_type": "markdown",
      "source": [
        "#### **Define Your Business Objective?**"
      ],
      "metadata": {
        "id": "PH-0ReGfmX4f"
      }
    },
    {
      "cell_type": "markdown",
      "source": [
        "Analyse the key reason responsible for customer churn and minimize company cost by retaining customer. And give proper suggestions to improve retention of customer."
      ],
      "metadata": {
        "id": "PhDvGCAqmjP1"
      }
    },
    {
      "cell_type": "markdown",
      "source": [
        "**BREAKDOWN OF THE FEATURE:**\n",
        "\n",
        "**STATE:** 51 Unique States name\n",
        "\n",
        "**Account Length:** Length of The Account\n",
        "\n",
        "**Area Code:** Code Number of Area having some States\n",
        "\n",
        "**International Plan:** Yes Indicate International Plan is Present and No Indicates no subscription for Internatinal Plan\n",
        "\n",
        "**Voice Mail Plan:** Yes Indicates Voice Mail Plan is Present and No Indicates no subscription for Voice Mail Plan\n",
        "\n",
        "**Number vmail messages:** Number of Voice Mail Messages ranging from 0 to 50\n",
        "\n",
        "**Total day minutes:** Total Number of Minutes Spent in Morning\n",
        "\n",
        "**Total day calls:** Total Number of Calls made in Morning.\n",
        "\n",
        "**Total day charge:** Total Charge to the Customers in Morning.\n",
        "\n",
        "**Total eve minutes:** Total Number of Minutes Spent in Evening\n",
        "\n",
        "**Total eve calls:** Total Number of Calls made r in Evening.\n",
        "\n",
        "**Total eve charge:** Total Charge to the Customers in Morning.\n",
        "\n",
        "**Total night minutes:** Total Number of Minutes Spent in the Night.\n",
        "\n",
        "**Total night calls:** Total Number of Calls made in Night.\n",
        "\n",
        "**Total night charge:** Total Charge to the Customers in Night.\n",
        "\n",
        "**Customer service calls:** Number of customer service calls made by customer\n",
        "\n",
        "Churn Customer Churn, True means churned customer, False means retained customer"
      ],
      "metadata": {
        "id": "uvv7TIGP261K"
      }
    },
    {
      "cell_type": "markdown",
      "source": [
        "# ***Let's Begin !***"
      ],
      "metadata": {
        "id": "O_i_v8NEhb9l"
      }
    },
    {
      "cell_type": "markdown",
      "source": [
        "## ***1. Know Your Data***"
      ],
      "metadata": {
        "id": "HhfV-JJviCcP"
      }
    },
    {
      "cell_type": "markdown",
      "source": [
        "### Import Libraries"
      ],
      "metadata": {
        "id": "Y3lxredqlCYt"
      }
    },
    {
      "cell_type": "code",
      "source": [
        "# Import Libraries"
      ],
      "metadata": {
        "id": "M8Vqi-pPk-HR"
      },
      "execution_count": null,
      "outputs": []
    },
    {
      "cell_type": "code",
      "source": [
        "import numpy as np\n",
        "import pandas as pd\n",
        "import matplotlib.pyplot as plt\n",
        "import seaborn as sns "
      ],
      "metadata": {
        "id": "VTuDEZNa-y4Y"
      },
      "execution_count": null,
      "outputs": []
    },
    {
      "cell_type": "markdown",
      "source": [
        "### Dataset Loading"
      ],
      "metadata": {
        "id": "3RnN4peoiCZX"
      }
    },
    {
      "cell_type": "code",
      "source": [
        "# Load Dataset"
      ],
      "metadata": {
        "id": "4CkvbW_SlZ_R"
      },
      "execution_count": null,
      "outputs": []
    },
    {
      "cell_type": "code",
      "source": [
        "from google.colab import drive\n",
        "drive.mount('/content/drive')"
      ],
      "metadata": {
        "id": "6Xb8b3kT_bel"
      },
      "execution_count": null,
      "outputs": []
    },
    {
      "cell_type": "code",
      "source": [
        "df =  pd.read_csv('/content/drive/MyDrive/projects/EDA TELECOM CHURN ANALYSIS/DATA/Telecom Churn.csv')"
      ],
      "metadata": {
        "id": "tXqF7YlY_Q4g"
      },
      "execution_count": null,
      "outputs": []
    },
    {
      "cell_type": "markdown",
      "source": [
        "### Dataset First View"
      ],
      "metadata": {
        "id": "x71ZqKXriCWQ"
      }
    },
    {
      "cell_type": "code",
      "source": [
        "# Dataset First Look"
      ],
      "metadata": {
        "id": "LWNFOSvLl09H"
      },
      "execution_count": null,
      "outputs": []
    },
    {
      "cell_type": "code",
      "source": [
        "df.head(5)"
      ],
      "metadata": {
        "id": "qZWtU1iaEFK6"
      },
      "execution_count": null,
      "outputs": []
    },
    {
      "cell_type": "markdown",
      "source": [],
      "metadata": {
        "id": "WvaELjQA0DbG"
      }
    },
    {
      "cell_type": "code",
      "source": [
        "df.shape\n"
      ],
      "metadata": {
        "id": "jOMFpjj6ETRG"
      },
      "execution_count": null,
      "outputs": []
    },
    {
      "cell_type": "markdown",
      "source": [
        "### Dataset Information"
      ],
      "metadata": {
        "id": "JlHwYmJAmNHm"
      }
    },
    {
      "cell_type": "code",
      "source": [
        "df.info()"
      ],
      "metadata": {
        "id": "e9hRXRi6meOf"
      },
      "execution_count": null,
      "outputs": []
    },
    {
      "cell_type": "code",
      "source": [
        "# no. of unique variables\n",
        "df.nunique()"
      ],
      "metadata": {
        "id": "Owi40QtU35D6"
      },
      "execution_count": null,
      "outputs": []
    },
    {
      "cell_type": "code",
      "source": [
        "# Missing Values/Null Values Count\n",
        "df.isnull().sum()"
      ],
      "metadata": {
        "id": "NxaQHCyE4kyd"
      },
      "execution_count": null,
      "outputs": []
    },
    {
      "cell_type": "code",
      "source": [
        "missing = pd.DataFrame((df.isnull().sum())*100/df.shape[0]).reset_index()\n",
        "plt.figure(figsize=(16,5))\n",
        "ax = sns.pointplot('index',0,data=missing)\n",
        "plt.xticks(rotation =60,fontsize =7)\n",
        "plt.title(\"Percentage of Missing values\")\n",
        "plt.ylabel(\"PERCENTAGE\")\n",
        "plt.show()"
      ],
      "metadata": {
        "id": "3A78o6q-4T1v"
      },
      "execution_count": null,
      "outputs": []
    },
    {
      "cell_type": "markdown",
      "source": [
        "#### Duplicate Values"
      ],
      "metadata": {
        "id": "35m5QtbWiB9F"
      }
    },
    {
      "cell_type": "markdown",
      "source": [],
      "metadata": {
        "id": "4dfUexYiFQMb"
      }
    },
    {
      "cell_type": "code",
      "source": [
        "df.duplicated(subset=None, keep = 'first').sum()"
      ],
      "metadata": {
        "id": "1sLdpKYkmox0"
      },
      "execution_count": null,
      "outputs": []
    },
    {
      "cell_type": "markdown",
      "source": [
        "as we see no duplicate value"
      ],
      "metadata": {
        "id": "fUwInNnDiK2H"
      }
    },
    {
      "cell_type": "markdown",
      "source": [
        "### What did you know about your dataset?"
      ],
      "metadata": {
        "id": "H0kj-8xxnORC"
      }
    },
    {
      "cell_type": "markdown",
      "source": [
        "**\n",
        "1.   Rows-3333 and Columns-20\n",
        "2.   3 categorical var, 1 bool (Churn), \n",
        "3.   No missing and no duplicate values\n",
        "**"
      ],
      "metadata": {
        "id": "5rYvi8B-Y_Pz"
      }
    },
    {
      "cell_type": "code",
      "source": [],
      "metadata": {
        "id": "IUm-6O5mY9nV"
      },
      "execution_count": null,
      "outputs": []
    },
    {
      "cell_type": "markdown",
      "source": [
        "**EXPLORATORY DATA ANALYSIS** "
      ],
      "metadata": {
        "id": "VJM2OIMnzvcR"
      }
    },
    {
      "cell_type": "markdown",
      "source": [
        "**UNIVARIATE ANALYSIS**"
      ],
      "metadata": {
        "id": "z9V_e_BMakK-"
      }
    },
    {
      "cell_type": "markdown",
      "source": [
        "**Categorical Data**"
      ],
      "metadata": {
        "id": "JQtF8yvOavC5"
      }
    },
    {
      "cell_type": "code",
      "source": [
        "# Inetrnational plan\n",
        "plt.figure(figsize=(15,8))\n",
        "plt.subplot(1,2,1)\n",
        "sns.countplot(x='International plan',data=df)\n",
        "\n",
        "plt.subplot(1,2,2)\n",
        "df['International plan'].value_counts().plot(kind='pie',autopct='%1.0f%%',figsize=(15,10))\n",
        "plt.show()"
      ],
      "metadata": {
        "id": "AMIWXViaas7_"
      },
      "execution_count": null,
      "outputs": []
    },
    {
      "cell_type": "code",
      "source": [
        "df['International plan'].value_counts()"
      ],
      "metadata": {
        "id": "pql_zSN8f4eX"
      },
      "execution_count": null,
      "outputs": []
    },
    {
      "cell_type": "markdown",
      "source": [
        "**As we see from data only ~10% had taken international plan which comes to be 323 outoff 3333**"
      ],
      "metadata": {
        "id": "GSyd3vqNgJeF"
      }
    },
    {
      "cell_type": "code",
      "source": [
        "#Voice mail plan\n",
        "plt.figure(figsize=(15,8))\n",
        "plt.subplot(1,2,1)\n",
        "sns.countplot(x='Voice mail plan',data=df)\n",
        "\n",
        "plt.subplot(1,2,2)\n",
        "df['Voice mail plan'].value_counts().plot(kind='pie',autopct='%1.0f%%',figsize=(15,10))\n",
        "plt.show()"
      ],
      "metadata": {
        "id": "B4J5TqvLgE4s"
      },
      "execution_count": null,
      "outputs": []
    },
    {
      "cell_type": "code",
      "source": [
        "df['Voice mail plan'].value_counts()"
      ],
      "metadata": {
        "id": "AZln2xCOhSfp"
      },
      "execution_count": null,
      "outputs": []
    },
    {
      "cell_type": "markdown",
      "source": [
        "**Out of total 922 data having voicemail plan which is ~ 28% of data**"
      ],
      "metadata": {
        "id": "kiJ1hN7uhYSd"
      }
    },
    {
      "cell_type": "code",
      "source": [
        "# churn \n",
        "df['Churn'].value_counts()"
      ],
      "metadata": {
        "id": "k1strcfy91hl"
      },
      "execution_count": null,
      "outputs": []
    },
    {
      "cell_type": "code",
      "source": [
        "plt.figure(figsize=(15,8))\n",
        "plt.subplot(1,2,1)\n",
        "sns.countplot(x='Churn',data=df)\n",
        "\n",
        "plt.subplot(1,2,2)\n",
        "df['Churn'].value_counts().plot(kind='pie',explode=[.05,.05],autopct='%1.0f%%',figsize=(15,10))\n",
        "plt.show()"
      ],
      "metadata": {
        "id": "3q5wnI3om9sJ"
      },
      "execution_count": null,
      "outputs": []
    },
    {
      "cell_type": "markdown",
      "source": [
        "**Out of total 483 data were churned which comes to be ~14% of data.**"
      ],
      "metadata": {
        "id": "7Je6EsUhiLcI"
      }
    },
    {
      "cell_type": "code",
      "source": [
        "df.columns"
      ],
      "metadata": {
        "id": "GFBFpWWyi-5u"
      },
      "execution_count": null,
      "outputs": []
    },
    {
      "cell_type": "markdown",
      "source": [
        "**Numerical data**"
      ],
      "metadata": {
        "id": "GKmjSqNci0xw"
      }
    },
    {
      "cell_type": "code",
      "source": [
        "#Printing boxplot for each numerical column present in the data set\n",
        "df1=df.select_dtypes(exclude=['object','bool'])\n",
        "for column in df1:\n",
        "        plt.figure(figsize=(17,1))\n",
        "        sns.boxplot(data=df1, x=column)\n",
        "plt.show()"
      ],
      "metadata": {
        "id": "VfN0uFDsi0Dv"
      },
      "execution_count": null,
      "outputs": []
    },
    {
      "cell_type": "code",
      "source": [
        "#Printing displot for each numerical column present in the data set\n",
        "df1=df.select_dtypes(exclude=['object','bool'])\n",
        "for column in df1:\n",
        "        plt.figure(figsize=(17,1))\n",
        "      \n",
        "        sns.displot(data=df1, x=column)\n",
        "plt.show()"
      ],
      "metadata": {
        "id": "RNcIttKZ40Y8"
      },
      "execution_count": null,
      "outputs": []
    },
    {
      "cell_type": "code",
      "source": [
        "#Printing strip plot for each numerical column present in the data set\n",
        "df1=df.select_dtypes(exclude=['object','bool'])\n",
        "for column in df1:\n",
        "        plt.figure(figsize=(17,1))\n",
        "        sns.stripplot(data=df1, x=column)\n",
        "plt.show()"
      ],
      "metadata": {
        "id": "LG1Z1nI3zRz4"
      },
      "execution_count": null,
      "outputs": []
    },
    {
      "cell_type": "markdown",
      "source": [
        "** Univariate analysis will help in analysing data distribution it will not give any result.**"
      ],
      "metadata": {
        "id": "UkSbOf346QOy"
      }
    },
    {
      "cell_type": "markdown",
      "source": [
        "**BIVARIATE ANALYSIS**"
      ],
      "metadata": {
        "id": "5gDROlRDzSlE"
      }
    },
    {
      "cell_type": "markdown",
      "source": [
        "DEPENDENT VARIABLE = CHURN"
      ],
      "metadata": {
        "id": "7ypAUsW_zaf0"
      }
    },
    {
      "cell_type": "code",
      "source": [
        "# Chart - Churn with State\n",
        "sns.set(style='darkgrid')\n",
        "plt.figure(figsize=(15,8))\n",
        "ax = sns.countplot(x='State',hue='Churn',data=df)\n",
        "plt.show()"
      ],
      "metadata": {
        "id": "t6GMdE67YoAp"
      },
      "execution_count": null,
      "outputs": []
    },
    {
      "cell_type": "code",
      "source": [
        "# Chart top 5 churned state\n",
        "plt.rcParams['figure.figsize']=(12,7)\n",
        "(df.groupby(['State'])['Churn'].mean()*100).sort_values(ascending=False).head(5).plot(kind='bar')\n",
        "plt.xlabel('State',size=20)\n",
        "plt.ylabel('pecent',size=12)\n",
        "plt.title('Top 5 heighest churned state',size=15)"
      ],
      "metadata": {
        "id": "irlUoxc8YrdO"
      },
      "execution_count": null,
      "outputs": []
    },
    {
      "cell_type": "markdown",
      "source": [
        "**Top 5 churned states - [ NJ, CA, TX, MD, SC], reason for churn may be due to lower cellular network**"
      ],
      "metadata": {
        "id": "O_54STmca8zm"
      }
    },
    {
      "cell_type": "code",
      "source": [
        "df['Area code'].unique()"
      ],
      "metadata": {
        "id": "vzepedUs63Cc"
      },
      "execution_count": null,
      "outputs": []
    },
    {
      "cell_type": "code",
      "source": [
        "# Area code vs Churn \n",
        "plt.rcParams['figure.figsize']=(12,7)\n",
        "((df.groupby(['Area code'])['Churn'].mean())*100).sort_values(ascending=False).plot(kind='bar')\n",
        "plt.xlabel('Area code',size=20)\n",
        "plt.ylabel('pecent',size=12)\n",
        "plt.title('churned area code',size=15)"
      ],
      "metadata": {
        "id": "TIJwrbroYuh3"
      },
      "execution_count": null,
      "outputs": []
    },
    {
      "cell_type": "markdown",
      "source": [
        "**Churned data for all 3 area code are nearly same. therefore does not effect much on churn data.**"
      ],
      "metadata": {
        "id": "UMRuuxq7bTJb"
      }
    },
    {
      "cell_type": "code",
      "source": [
        "#Separating churn and non churn customers\n",
        "churn_df     = df[df[\"Churn\"] == bool(True)]\n",
        "not_churn_df = df[df[\"Churn\"] == bool(False)]"
      ],
      "metadata": {
        "id": "KKtyOvs18rX7"
      },
      "execution_count": null,
      "outputs": []
    },
    {
      "cell_type": "code",
      "source": [
        "#comparison of churned account length and not churned account length \n",
        "sns.distplot(df['Account length'],color = 'green',label=\"All\")\n",
        "sns.distplot(df['Account length'],color = \"blue\",hist=False,label=\"Churned\")\n",
        "sns.distplot(not_churn_df['Account length'],color = 'red',hist= False,label=\"Not churned\")\n",
        "plt.legend()"
      ],
      "metadata": {
        "id": "bJ_Dh4N48d-I"
      },
      "execution_count": null,
      "outputs": []
    },
    {
      "cell_type": "markdown",
      "source": [
        "**We didn't found any useful relation to churn. So we aren't able to build any connection to the churn as of now.**"
      ],
      "metadata": {
        "id": "6OiYzK3iwBKG"
      }
    },
    {
      "cell_type": "code",
      "source": [
        "#  international plan vs churn\n",
        "df['Churn'].value_counts()\n"
      ],
      "metadata": {
        "id": "kuRf4wtuphqN"
      },
      "execution_count": null,
      "outputs": []
    },
    {
      "cell_type": "code",
      "source": [
        "df['International plan'].value_counts()"
      ],
      "metadata": {
        "id": "GQruiU-m6QLE"
      },
      "execution_count": null,
      "outputs": []
    },
    {
      "cell_type": "code",
      "source": [
        "International_plan_data_churned=pd.crosstab(df['International plan'],df['Churn'],margins=True)\n",
        "International_plan_data_churned['churned_percentage']= International_plan_data_churned.apply(lambda x: x[1]*100/(x[0]+x[1]),axis =1)\n",
        "International_plan_data_churned"
      ],
      "metadata": {
        "id": "1Oz9Jagy6q4Z"
      },
      "execution_count": null,
      "outputs": []
    },
    {
      "cell_type": "code",
      "source": [
        "\n",
        "International_plan_data_churned.plot(kind='bar',figsize=(15,10))\n",
        "plt.show()\n",
        "\n",
        "\n",
        "\n",
        "#df['Voice mail plan'].value_counts().plot(kind='pie',autopct='%1.0f%%',figsize=(15,10))\n"
      ],
      "metadata": {
        "id": "PK2yTqrZ7tNo"
      },
      "execution_count": null,
      "outputs": []
    },
    {
      "cell_type": "markdown",
      "source": [
        "**As we saw that churned percentage who had taken international plan is high**"
      ],
      "metadata": {
        "id": "VECbqPI7phqN"
      }
    },
    {
      "cell_type": "markdown",
      "source": [
        "#### voicemail_plan vs churn"
      ],
      "metadata": {
        "id": "PIIx-8_IphqN"
      }
    },
    {
      "cell_type": "code",
      "source": [
        "df.columns"
      ],
      "metadata": {
        "id": "VVuonCnLb48u"
      },
      "execution_count": null,
      "outputs": []
    },
    {
      "cell_type": "code",
      "source": [
        "# voicemail_plan vs churn\n",
        "Voice_mail_plan_data_churned=pd.crosstab(df['Voice mail plan'],df['Churn'],margins=True)\n",
        "Voice_mail_plan_data_churned['churned_percentage']= Voice_mail_plan_data_churned.apply(lambda x: x[1]*100/(x[0]+x[1]),axis =1)\n",
        "Voice_mail_plan_data_churned"
      ],
      "metadata": {
        "id": "lqAIGUfyphqO"
      },
      "execution_count": null,
      "outputs": []
    },
    {
      "cell_type": "code",
      "source": [
        "Voice_mail_plan_data_churned.plot(kind='bar')"
      ],
      "metadata": {
        "id": "KA65QT_p5JMn"
      },
      "execution_count": null,
      "outputs": []
    },
    {
      "cell_type": "markdown",
      "source": [
        "**As we see who have voice mail plan churned less. So improve voice mail subscription plan.**"
      ],
      "metadata": {
        "id": "KtLDnZ_Mc2sw"
      }
    },
    {
      "cell_type": "code",
      "source": [
        "sns.barplot(df['Customer service calls'],df['Churn'])"
      ],
      "metadata": {
        "id": "HkLJgc6k-lJQ"
      },
      "execution_count": null,
      "outputs": []
    },
    {
      "cell_type": "markdown",
      "source": [
        "**As we see churn is high when customer call no. is more than 3. therefore it's advisable to improve customer call responce.**"
      ],
      "metadata": {
        "id": "v96eRAyV-2yY"
      }
    },
    {
      "cell_type": "code",
      "source": [
        "#Deriving a relation between overall call charge and overall call minutes   \n",
        "day_charge_perm = df['Total day charge'].mean()/df['Total day minutes'].mean()\n",
        "eve_charge_perm = df['Total eve charge'].mean()/df['Total eve minutes'].mean()\n",
        "night_charge_perm = df['Total night charge'].mean()/df['Total night minutes'].mean()\n",
        "int_charge_perm= df['Total intl charge'].mean()/df['Total intl minutes'].mean()"
      ],
      "metadata": {
        "id": "YMR9r1T4Xjwe"
      },
      "execution_count": null,
      "outputs": []
    },
    {
      "cell_type": "code",
      "source": [
        "sns.barplot(x=['Day','Evening','Night','International'],y=[day_charge_perm,eve_charge_perm,night_charge_perm,int_charge_perm])"
      ],
      "metadata": {
        "id": "b9bYBAvEx0Rh"
      },
      "execution_count": null,
      "outputs": []
    },
    {
      "cell_type": "markdown",
      "source": [
        "**As we see international  charge is far heigher than other call and in previous analysis as we see one who took international plan there churnig rate is also high. So it is advisable to decrease price of international charge.**"
      ],
      "metadata": {
        "id": "TSRuA9j1yBXn"
      }
    },
    {
      "cell_type": "code",
      "source": [
        "df.columns"
      ],
      "metadata": {
        "id": "A0aVeLnL7Emr"
      },
      "execution_count": null,
      "outputs": []
    },
    {
      "cell_type": "markdown",
      "source": [
        "MULTIVARIATE ANALYSIS"
      ],
      "metadata": {
        "id": "tOYvnsG9XEWv"
      }
    },
    {
      "cell_type": "markdown",
      "source": [],
      "metadata": {
        "id": "OgDPbMuhXJLM"
      }
    },
    {
      "cell_type": "code",
      "source": [
        "plt.subplot(1,2,1)\n",
        "sns.scatterplot(df['Total intl minutes'],df['Total intl charge'],hue=df['Churn'])\n",
        "\n",
        "\n",
        "plt.subplot(1,2,2)\n",
        "sns.scatterplot(df['Total day minutes'],df['Total day charge'],hue=df['Churn'])\n",
        "plt.show()"
      ],
      "metadata": {
        "id": "H16ELWUWM-W8"
      },
      "execution_count": null,
      "outputs": []
    },
    {
      "cell_type": "markdown",
      "source": [
        "**As total day min increase fron 240 churn rate increse may be due to high charge and also its worry to know that we were loosing a valuable customer.\n",
        "AS total intl min increses from 10 churn rate is high.\n",
        "may be we can giv some discount after certain min to improve our retention.** "
      ],
      "metadata": {
        "id": "MNTAkeijNUSP"
      }
    },
    {
      "cell_type": "code",
      "source": [
        "\n",
        "\n",
        "plt.subplot(1,2,1)\n",
        "sns.scatterplot(df['Total eve minutes'],df['Total eve charge'],hue=df['Churn'])\n",
        "\n",
        "plt.subplot(1,2,2)\n",
        "sns.scatterplot(df['Total night minutes'],df['Total night charge'],hue=df['Churn'])\n",
        "plt.show()"
      ],
      "metadata": {
        "id": "GL-_w6L8KQ3Z"
      },
      "execution_count": null,
      "outputs": []
    },
    {
      "cell_type": "markdown",
      "source": [
        "**AS we increase in eve min between 270-320 churn rate is high and near about 350 is very high.**"
      ],
      "metadata": {
        "id": "Fcr7ibcaLf1z"
      }
    },
    {
      "cell_type": "code",
      "source": [
        "df.boxplot(column='Number vmail messages',by='Churn')"
      ],
      "metadata": {
        "id": "ETzrTPuw_MJG"
      },
      "execution_count": null,
      "outputs": []
    },
    {
      "cell_type": "markdown",
      "source": [
        "**As we see more than 16 messages data churned more.**"
      ],
      "metadata": {
        "id": "hJ1zCBNjEmsh"
      }
    },
    {
      "cell_type": "markdown",
      "source": [
        "#### Chart - 14 - Correlation Heatmap"
      ],
      "metadata": {
        "id": "NC_X3p0fY2L0"
      }
    },
    {
      "cell_type": "code",
      "source": [
        "# visualization using correlation plot\n",
        "plt.figure(figsize=(19,8))\n",
        "df.corr()['Churn'].sort_values(ascending = False).plot(kind='bar',color = ['red','blue','yellow','indigo','orange','brown','pink'])"
      ],
      "metadata": {
        "id": "xyC9zolEZNRQ"
      },
      "execution_count": null,
      "outputs": []
    },
    {
      "cell_type": "code",
      "source": [
        "## plot the Correlation matrix\n",
        "plt.figure(figsize=(17,8))\n",
        "correlation=df.corr()\n",
        "sns.heatmap(abs(correlation), annot=True, cmap='coolwarm')"
      ],
      "metadata": {
        "id": "DKNsaulJzQyf"
      },
      "execution_count": null,
      "outputs": []
    },
    {
      "cell_type": "code",
      "source": [
        "#create a correlation heatmap\n",
        "#Assigning true=1 and False=0 to churn variable\n",
        "df['Churn'] = df['Churn'].replace({bool(True):1,bool(False):0})\n",
        "plt.figure(figsize=(17,9))\n",
        "sns.heatmap(df.corr(), cmap=\"Paired\",annot=False)\n",
        "plt.title(\"Correlation Heatmap\", fontsize=20)"
      ],
      "metadata": {
        "id": "OP8ou0jFzh29"
      },
      "execution_count": null,
      "outputs": []
    },
    {
      "cell_type": "markdown",
      "source": [
        "**As we see from graph total international min, total night min , total day min,total eve min, voice mail plan are the data which are heighly correlated.**"
      ],
      "metadata": {
        "id": "bfSqtnDqZNRR"
      }
    },
    {
      "cell_type": "markdown",
      "source": [
        "#### Chart - 15 - Pair Plot "
      ],
      "metadata": {
        "id": "q29F0dvdveiT"
      }
    },
    {
      "cell_type": "code",
      "source": [
        "sns.pairplot(df,hue='Churn')\n",
        "plt.show()"
      ],
      "metadata": {
        "id": "Vsc1wo-V_2Bk"
      },
      "execution_count": null,
      "outputs": []
    },
    {
      "cell_type": "markdown",
      "source": [
        "## **5. Solution to Business Objective**"
      ],
      "metadata": {
        "id": "JcMwzZxoAimU"
      }
    },
    {
      "cell_type": "markdown",
      "source": [
        "#### What do you suggest the client to achieve Business Objective ? \n",
        "Explain Briefly."
      ],
      "metadata": {
        "id": "8G2x9gOozGDZ"
      }
    },
    {
      "cell_type": "markdown",
      "source": [
        "\n",
        "**\n",
        "1.   Focus on top churned state first.\n",
        "2.   Area code have not that much role. we can neglect area code.\n",
        "3.   Focus on customer who did'nt picked voice mail plan as there churning    rate is high\n",
        "4.   Improve customer service call centre responce may be customer query can't resolve that's why they were calling to customer again and again ande then churn\n",
        "5.   Focus on customer who had taken international plan . Try to revise plan may reduce plan price little bit.\n",
        "6.   Improve network connection, specially focus on top churned satates.\n",
        "7.   Give some discount offer after certain min day call because as day call increase our churning rate is also increase and we were loosing our valuable customers. \n",
        "8.   We did not able to analys any valuable information with account length.\n",
        "\n",
        "\n",
        "**\n"
      ],
      "metadata": {
        "id": "pASKb0qOza21"
      }
    },
    {
      "cell_type": "markdown",
      "source": [
        "# **Conclusion**"
      ],
      "metadata": {
        "id": "gCX9965dhzqZ"
      }
    },
    {
      "cell_type": "markdown",
      "source": [
        "Write the conclusion here."
      ],
      "metadata": {
        "id": "Fjb1IsQkh3yE"
      }
    },
    {
      "cell_type": "markdown",
      "source": [
        "we stated data analysisng with univariate in which we seen different distributions of all data. Then we comes on bivariate analysis in which we different categorical and numerical variables with churn found out that top churned states were [ NJ, CA, TX, MD, SC].Then we see voicemail plan and international plan analysis with churn and get result that who have voice mail plan churned less. and the data who is having international plan were churning more. And when I analyse customer call then saw that moree than 3 customer call were churning more. And also when I compare day, eve ,night and international call then I saw that international charge rate is higher than all the other charge rate. and also when I compare total day  minute with churn then comes to know that more than 240 day min churning were high.\n",
        "\n",
        "So based on all this result I gave above suggestions which may be helpful for telecom business growing and retention of customers which may increase company profit."
      ],
      "metadata": {
        "id": "55By7jkPuvxY"
      }
    },
    {
      "cell_type": "code",
      "source": [],
      "metadata": {
        "id": "0OImiPDu_Kge"
      },
      "execution_count": null,
      "outputs": []
    }
  ]
}